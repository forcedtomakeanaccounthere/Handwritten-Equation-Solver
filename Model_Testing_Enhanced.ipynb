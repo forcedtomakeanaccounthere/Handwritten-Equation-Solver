{
  "cells": [
    {
      "cell_type": "markdown",
      "metadata": {
        "id": "1379e132"
      },
      "source": [
        "\n",
        "\n",
        "\n",
        "**Objectives**:\n",
        "- Understand the dataset and perform necessary preprocessing.\n",
        "- Train the model using selected algorithms.\n",
        "- Evaluate the model's performance and fine-tune for better results.\n"
      ]
    },
    {
      "cell_type": "code",
      "execution_count": 1,
      "metadata": {
        "id": "Lx8iclvZFWrB"
      },
      "outputs": [],
      "source": [
        "# Importing the NumPy library for numerical computations and handling arrays\n",
        "import numpy as np\n",
        "\n",
        "# Importing the OpenCV library for image processing tasks\n",
        "import cv2\n",
        "\n",
        "# Importing the MNIST dataset from Keras for digit recognition\n",
        "from keras.datasets import mnist\n",
        "\n",
        "# Importing Sequential to create a layer-by-layer neural network model\n",
        "from keras.models import Sequential\n",
        "\n",
        "# Importing Dense for fully connected layers in the neural network\n",
        "from keras.layers import Dense\n",
        "\n",
        "# Importing Dropout to prevent overfitting by randomly dropping units during training\n",
        "from keras.layers import Dropout\n",
        "\n",
        "# Importing Flatten to convert multi-dimensional input into a single vector for the fully connected layer\n",
        "from keras.layers import Flatten\n",
        "\n",
        "# Importing Conv2D for convolutional layers to extract spatial features\n",
        "from keras.layers import Conv2D\n",
        "\n",
        "# Importing MaxPooling2D for down-sampling feature maps by pooling\n",
        "from keras.layers import MaxPooling2D\n",
        "\n",
        "# Importing model_from_json to load pre-trained models saved in JSON format\n",
        "from keras.models import model_from_json\n",
        "\n",
        "# Importing the backend module to access backend-specific functions (TensorFlow, Theano, etc.)\n",
        "from keras import backend as K\n",
        "\n",
        "# Setting the image data format to 'channels_first' (depth, height, width)\n",
        "K.set_image_data_format('channels_first')\n",
        "\n",
        "# Importing Image from IPython.display to display images in Jupyter notebooks\n",
        "from IPython.display import Image\n"
      ]
    },
    {
      "cell_type": "markdown",
      "metadata": {
        "id": "465fa47e"
      },
      "source": [
        "\n",
        "## Data Loading and Preprocessing\n",
        "\n",
        "In this section, we load the dataset and preprocess it to ensure it is suitable for training the model.\n",
        "Steps include handling missing values, feature scaling, and splitting the data into training and testing sets.\n"
      ]
    },
    {
      "cell_type": "code",
      "execution_count": 2,
      "metadata": {
        "id": "qj_cwWxJFWrR"
      },
      "outputs": [],
      "source": [
        "json_file = open(r'C:\\Users\\Abhishek\\OneDrive\\Desktop\\VS Code\\python\\my_venv\\handwritten eq recognition\\model.json', 'r')\n",
        "loaded_model_json = json_file.read()\n",
        "json_file.close()\n",
        "loaded_model = model_from_json(loaded_model_json)\n",
        "# saving the archutecture of the model\n",
        "\n",
        "#Loading saved weights into new model\n",
        "loaded_model.load_weights(r\"C:\\Users\\Abhishek\\OneDrive\\Desktop\\VS Code\\python\\my_venv\\handwritten eq recognition\\model.weights.h5\")"
      ]
    },
    {
      "cell_type": "markdown",
      "metadata": {
        "id": "chgzgBFMtCxz"
      },
      "source": [
        "Reads the image in grayscale format.\n",
        "\n",
        "Grayscale simplifies processing since it has only one channel (0-255 intensity values).\n"
      ]
    },
    {
      "cell_type": "code",
      "execution_count": 3,
      "metadata": {
        "id": "KBLTk8clFWrS"
      },
      "outputs": [],
      "source": [
        "img = cv2.imread(r'C:\\Users\\Abhishek\\OneDrive\\Desktop\\VS Code\\python\\my_venv\\handwritten eq recognition\\Test Image.jpeg',cv2.IMREAD_GRAYSCALE)\n",
        "\n",
        "cv2.waitKey(0)\n",
        "cv2.destroyAllWindows()\n",
        "\n",
        "if img is not None:\n",
        "    #Inverts the colors, making text white on a black background.\n",
        "    #Easier to work with for contour detection.\n",
        "    img =~ img\n",
        "\n",
        "    #Converts the image to binary (black and white).\n",
        "    #This isolates the text from the background.\n",
        "\n",
        "    ret, thresh = cv2.threshold(img,127,255,cv2.THRESH_BINARY)\n",
        "    #Detects the boundaries (contours) of the text or objects in the binary image.\n",
        "\n",
        "    ctrs, ret = cv2.findContours(thresh, cv2.RETR_TREE, cv2.CHAIN_APPROX_SIMPLE)\n",
        "\n",
        "    #Sorts the contours left-to-right based on their x-coordinates.\n",
        "    #Ensures the text is processed in reading order\n",
        "\n",
        "    cnt=sorted(ctrs, key=lambda ctr: cv2.boundingRect(ctr)[0])\n",
        "    w = int(28)\n",
        "    h = int(28)\n",
        "    train_data = []\n",
        "\n",
        "    rects = []\n",
        "\n",
        "    for c in cnt:\n",
        "        x, y, w, h = cv2.boundingRect(c)\n",
        "        rect = [x, y, w, h]\n",
        "        rects.append(rect)\n",
        "\n",
        "    bool_rect = []\n",
        "    for r in rects:\n",
        "        l = []\n",
        "        for rec in rects:\n",
        "            flag = 0\n",
        "\n",
        "    #Checks if two bounding boxes overlap by comparing their coordinates.\n",
        "    #Keeps only one box if overlap is detected to avoid duplicate or redundant regions.\n",
        "\n",
        "            if (rec!=r):\n",
        "                if (r[0]<(rec[0]+rec[2]+10) and rec[0]<(r[0]+r[2]+10) and r[1]<(rec[1]+rec[3]+10) and rec[1]<(r[1]+r[3]+10)):\n",
        "                    flag = 1\n",
        "                l.append(flag)\n",
        "\n",
        "            if (rec == r):\n",
        "                l.append(0)\n",
        "\n",
        "        bool_rect.append(l)\n",
        "\n",
        "    dump_rect = []\n",
        "\n",
        "    for i in range(0,len(cnt)):\n",
        "        for j in range(0,len(cnt)):\n",
        "            if bool_rect[i][j] == 1:\n",
        "                area1 = rects[i][2]*rects[i][3]\n",
        "                area2 = rects[j][2]*rects[j][3]\n",
        "                if(area1 == min(area1,area2)):\n",
        "                    dump_rect.append(rects[i])\n",
        "\n",
        "    final_rect=[i for i in rects if i not in dump_rect]\n",
        "\n",
        "    for r in final_rect:\n",
        "        x = r[0]\n",
        "        y = r[1]\n",
        "        w = r[2]\n",
        "        h = r[3]\n",
        "\n",
        "    #Crops the region of interest (the text or object) from the thresholded image.\n",
        "    #Adds a margin of 10 pixels around the crop for context.\n",
        "    #Resizes the cropped image to 28x28 pixels (standard size for input to models like CNNs).\n",
        "        im_crop = thresh[y:y+h+10,x:x+w+10]\n",
        "\n",
        "        im_resize = cv2.resize(im_crop,(28,28))\n",
        "        cv2.waitKey(0)\n",
        "        cv2.destroyAllWindows()\n",
        "\n",
        "        im_resize=np.reshape(im_resize,(1,28,28,1))\n",
        "        train_data.append(im_resize)\n",
        "\n"
      ]
    },
    {
      "cell_type": "markdown",
      "metadata": {
        "id": "234ab06e"
      },
      "source": [
        "\n",
        "## Model Training\n",
        "\n",
        "Here, we train the machine learning model on the prepared dataset.\n",
        "The model parameters are tuned to achieve optimal performance.\n"
      ]
    },
    {
      "cell_type": "code",
      "execution_count": 4,
      "metadata": {
        "colab": {
          "base_uri": "https://localhost:8080/",
          "height": 762
        },
        "id": "uQK-fSllaeiY",
        "outputId": "49792de3-bccf-4389-e038-d6933ed03808"
      },
      "outputs": [
        {
          "name": "stdout",
          "output_type": "stream",
          "text": [
            "\n",
            "\n",
            " The test image --> \n",
            "\n",
            "\n"
          ]
        },
        {
          "data": {
            "image/png": "[encoded data removed]",
            "text/plain": [
              "<IPython.core.display.Image object>"
            ]
          },
          "execution_count": 4,
          "metadata": {},
          "output_type": "execute_result"
        }
      ],
      "source": [
        "print(\"\\n\"*2, \"The test image -->\", \"\\n\"*2)\n",
        "\n",
        "Image(r'C:\\Users\\Abhishek\\OneDrive\\Desktop\\VS Code\\python\\my_venv\\handwritten eq recognition\\tst 2.png')"
      ]
    },
    {
      "cell_type": "code",
      "execution_count": 5,
      "metadata": {
        "colab": {
          "base_uri": "https://localhost:8080/"
        },
        "id": "8Ck2s3lWFWrT",
        "outputId": "6dcfdab2-22ff-4821-a575-a949a18bea7d"
      },
      "outputs": [
        {
          "name": "stdout",
          "output_type": "stream",
          "text": [
            "\u001b[1m1/1\u001b[0m \u001b[32m━━━━━━━━━━━━━━━━━━━━\u001b[0m\u001b[37m\u001b[0m \u001b[1m0s\u001b[0m 310ms/step\n",
            "\u001b[1m1/1\u001b[0m \u001b[32m━━━━━━━━━━━━━━━━━━━━\u001b[0m\u001b[37m\u001b[0m \u001b[1m0s\u001b[0m 76ms/step\n",
            "\u001b[1m1/1\u001b[0m \u001b[32m━━━━━━━━━━━━━━━━━━━━\u001b[0m\u001b[37m\u001b[0m \u001b[1m0s\u001b[0m 63ms/step\n",
            "\u001b[1m1/1\u001b[0m \u001b[32m━━━━━━━━━━━━━━━━━━━━\u001b[0m\u001b[37m\u001b[0m \u001b[1m0s\u001b[0m 61ms/step\n",
            "\u001b[1m1/1\u001b[0m \u001b[32m━━━━━━━━━━━━━━━━━━━━\u001b[0m\u001b[37m\u001b[0m \u001b[1m0s\u001b[0m 56ms/step\n",
            "\u001b[1m1/1\u001b[0m \u001b[32m━━━━━━━━━━━━━━━━━━━━\u001b[0m\u001b[37m\u001b[0m \u001b[1m0s\u001b[0m 58ms/step\n",
            "\u001b[1m1/1\u001b[0m \u001b[32m━━━━━━━━━━━━━━━━━━━━\u001b[0m\u001b[37m\u001b[0m \u001b[1m0s\u001b[0m 56ms/step\n",
            "\n",
            "\n",
            " The evaluation of the image gives equation :  63 + 82 * 9 \n",
            "\n",
            "\n"
          ]
        }
      ],
      "source": [
        "s = ''\n",
        "\n",
        "for i in range(len(train_data)):\n",
        "    train_data[i]=np.array(train_data[i])\n",
        "    train_data[i]=train_data[i].reshape(1,1,28,28)\n",
        "\n",
        "    result = (loaded_model.predict(train_data[i]) > 0.5).astype(\"int32\")\n",
        "\n",
        "    if(result[0][0]==1):\n",
        "        s=s+'0'\n",
        "\n",
        "    if(result[0][1]==1):\n",
        "        s=s+'1'\n",
        "\n",
        "    if(result[0][2]==1):\n",
        "        s=s+'2'\n",
        "\n",
        "    if(result[0][3]==1):\n",
        "        s=s+'3'\n",
        "\n",
        "    if(result[0][4]==1):\n",
        "        s=s+'4'\n",
        "\n",
        "    if(result[0][5]==1):\n",
        "        s=s+'5'\n",
        "\n",
        "    if(result[0][6]==1):\n",
        "        s=s+'6'\n",
        "\n",
        "    if(result[0][7]==1):\n",
        "        s=s+'7'\n",
        "\n",
        "    if(result[0][8]==1):\n",
        "        s=s+'8'\n",
        "\n",
        "    if(result[0][9]==1):\n",
        "        s=s+'9'\n",
        "\n",
        "    if(result[0][10]==1):\n",
        "        s=s+' - '\n",
        "\n",
        "    if(result[0][11]==1):\n",
        "        s=s+' + '\n",
        "\n",
        "    if(result[0][12]==1):\n",
        "        s=s+' * '\n",
        "\n",
        "print(\"\\n\\n\", \"The evaluation of the image gives equation : \", s, \"\\n\\n\")"
      ]
    },
    {
      "cell_type": "markdown",
      "metadata": {
        "id": "f4da01c2"
      },
      "source": [
        "\n",
        "## Model Evaluation\n",
        "\n",
        "This section evaluates the trained model \n",
        "The results are analyzed to identify areas of improvement.\n"
      ]
    },
    {
      "cell_type": "code",
      "execution_count": 6,
      "metadata": {
        "colab": {
          "base_uri": "https://localhost:8080/"
        },
        "id": "Zc4ABtTeFWrV",
        "outputId": "480bb4a0-56ae-4af8-f6a9-d54cc9923a25"
      },
      "outputs": [
        {
          "name": "stdout",
          "output_type": "stream",
          "text": [
            "\n",
            "\n",
            " The evaluation of the handwritten equation is -->  63 + 82 x 9  =  801 \n",
            "\n",
            "\n"
          ]
        }
      ],
      "source": [
        "s_new =s.replace('*', 'x')\n",
        "print(\"\\n\"*2, \"The evaluation of the handwritten equation is --> \", s_new, \" = \", eval(s), \"\\n\"*2)"
      ]
    }
  ],
  "metadata": {
    "accelerator": "GPU",
    "colab": {
      "provenance": []
    },
    "kernelspec": {
      "display_name": "Python 3",
      "language": "python",
      "name": "python3"
    },
    "language_info": {
      "codemirror_mode": {
        "name": "ipython",
        "version": 3
      },
      "file_extension": ".py",
      "mimetype": "text/x-python",
      "name": "python",
      "nbconvert_exporter": "python",
      "pygments_lexer": "ipython3",
      "version": "3.12.3"
    }
  },
  "nbformat": 4,
  "nbformat_minor": 0
}
